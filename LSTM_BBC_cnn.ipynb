{
  "nbformat": 4,
  "nbformat_minor": 0,
  "metadata": {
    "colab": {
      "name": "LSTM BBC_cnn.ipynb",
      "provenance": [],
      "collapsed_sections": [],
      "authorship_tag": "ABX9TyOT7TeGyvoRGf6mqsaw8Xhm",
      "include_colab_link": true
    },
    "kernelspec": {
      "name": "python3",
      "display_name": "Python 3"
    },
    "language_info": {
      "name": "python"
    },
    "accelerator": "GPU"
  },
  "cells": [
    {
      "cell_type": "markdown",
      "metadata": {
        "id": "view-in-github",
        "colab_type": "text"
      },
      "source": [
        "<a href=\"https://colab.research.google.com/github/vin-thomas/BBC_news_classification/blob/main/LSTM_BBC_cnn.ipynb\" target=\"_parent\"><img src=\"https://colab.research.google.com/assets/colab-badge.svg\" alt=\"Open In Colab\"/></a>"
      ]
    },
    {
      "cell_type": "markdown",
      "metadata": {
        "id": "WUx4E-r0DBvl"
      },
      "source": [
        "**1.0 Import**"
      ]
    },
    {
      "cell_type": "code",
      "metadata": {
        "id": "353aMfJgCAxO",
        "colab": {
          "base_uri": "https://localhost:8080/"
        },
        "outputId": "04fd1a78-530d-4542-b46b-42a89354bee8"
      },
      "source": [
        "import os\n",
        "import numpy as np\n",
        "import pandas as pd\n",
        "import matplotlib.pyplot as plt\n",
        "import nltk\n",
        "import torch\n",
        "import glob\n",
        "from nltk.tokenize import word_tokenize\n",
        "nltk.download('punkt')"
      ],
      "execution_count": 49,
      "outputs": [
        {
          "output_type": "stream",
          "name": "stdout",
          "text": [
            "[nltk_data] Downloading package punkt to /root/nltk_data...\n",
            "[nltk_data]   Package punkt is already up-to-date!\n"
          ]
        },
        {
          "output_type": "execute_result",
          "data": {
            "text/plain": [
              "True"
            ]
          },
          "metadata": {},
          "execution_count": 49
        }
      ]
    },
    {
      "cell_type": "markdown",
      "metadata": {
        "id": "qxfbdCGBDOZx"
      },
      "source": [
        "**2.0 Download and unzip the dataset**"
      ]
    },
    {
      "cell_type": "code",
      "metadata": {
        "colab": {
          "base_uri": "https://localhost:8080/"
        },
        "id": "Xt5HvEkvDNtV",
        "outputId": "7c007fe1-8605-4e58-9042-866b66b9b6b1"
      },
      "source": [
        "URL = \"http://mlg.ucd.ie/files/datasets/bbc-fulltext.zip\" \n",
        "!wget -P 'Data/' $URL"
      ],
      "execution_count": 50,
      "outputs": [
        {
          "output_type": "stream",
          "name": "stdout",
          "text": [
            "--2022-01-23 07:12:16--  http://mlg.ucd.ie/files/datasets/bbc-fulltext.zip\n",
            "Resolving mlg.ucd.ie (mlg.ucd.ie)... 137.43.93.132\n",
            "Connecting to mlg.ucd.ie (mlg.ucd.ie)|137.43.93.132|:80... connected.\n",
            "HTTP request sent, awaiting response... 200 OK\n",
            "Length: 2874078 (2.7M) [application/zip]\n",
            "Saving to: ‘Data/bbc-fulltext.zip.1’\n",
            "\n",
            "bbc-fulltext.zip.1  100%[===================>]   2.74M  4.54MB/s    in 0.6s    \n",
            "\n",
            "2022-01-23 07:12:17 (4.54 MB/s) - ‘Data/bbc-fulltext.zip.1’ saved [2874078/2874078]\n",
            "\n"
          ]
        }
      ]
    },
    {
      "cell_type": "code",
      "metadata": {
        "id": "ap3ya7hPDLNg",
        "colab": {
          "base_uri": "https://localhost:8080/"
        },
        "outputId": "396ad3e7-8ab6-4cce-f31a-0ae88a2f59ca"
      },
      "source": [
        "!unzip \"/content/Data/bbc-fulltext.zip\" -d 'Data/'"
      ],
      "execution_count": 51,
      "outputs": [
        {
          "output_type": "stream",
          "name": "stdout",
          "text": [
            "Archive:  /content/Data/bbc-fulltext.zip\n",
            "replace Data/bbc/business/001.txt? [y]es, [n]o, [A]ll, [N]one, [r]ename: N\n"
          ]
        }
      ]
    },
    {
      "cell_type": "markdown",
      "metadata": {
        "id": "vYq62-Ji-rgT"
      },
      "source": [
        "##**3.0 Save Labels and Content to lists**"
      ]
    },
    {
      "cell_type": "code",
      "metadata": {
        "id": "NV5qLqIO6HPX"
      },
      "source": [
        "file_name_iter = glob.iglob('/content/Data/bbc/**/*.txt')"
      ],
      "execution_count": 95,
      "outputs": []
    },
    {
      "cell_type": "code",
      "metadata": {
        "id": "NiJiCOZX8bBG"
      },
      "source": [
        "def get_topic(file):\n",
        "  return file.split('/')[-2]"
      ],
      "execution_count": 96,
      "outputs": []
    },
    {
      "cell_type": "code",
      "metadata": {
        "id": "H60LnL-Q9EOo"
      },
      "source": [
        "def get_content(file):\n",
        "  with open(file, 'rb') as f:\n",
        "    content = f.read()\n",
        "    return content"
      ],
      "execution_count": 97,
      "outputs": []
    },
    {
      "cell_type": "code",
      "metadata": {
        "id": "uPHkEx6O837A"
      },
      "source": [
        "labels = []\n",
        "content = []\n",
        "\n",
        "for file in file_name_iter:\n",
        "  labels.append(get_topic(file))\n",
        "  content.append (get_content(file))"
      ],
      "execution_count": 98,
      "outputs": []
    },
    {
      "cell_type": "code",
      "source": [
        "len(labels), len(content)\n"
      ],
      "metadata": {
        "id": "R-LwAs3Yz6Ad"
      },
      "execution_count": null,
      "outputs": []
    },
    {
      "cell_type": "code",
      "source": [
        "l"
      ],
      "metadata": {
        "id": "D8MKx97iz51u"
      },
      "execution_count": null,
      "outputs": []
    },
    {
      "cell_type": "markdown",
      "metadata": {
        "id": "XBumyr4Uszre"
      },
      "source": [
        "##**4.0 Prepare a word index, dictionary**"
      ]
    },
    {
      "cell_type": "code",
      "metadata": {
        "id": "8-UidBXu-Xep"
      },
      "source": [
        "word2idx= {}\n",
        "idx = 0\n",
        "n_l = []\n",
        "news_len =0\n",
        "\n",
        "for item in content:\n",
        "  word_list = word_tokenize(str(item))\n",
        "  n_l.append(len(word_list))\n",
        "  for word in word_list:\n",
        "    if word not in word2idx:\n",
        "      word2idx[word]= idx\n",
        "      idx += 1\n",
        "      \n"
      ],
      "execution_count": 69,
      "outputs": []
    },
    {
      "cell_type": "code",
      "metadata": {
        "id": "dQWidJbtteFf"
      },
      "source": [
        "max_len_article = max(n_l)\n",
        "no_of_articles= len(content)"
      ],
      "execution_count": 70,
      "outputs": []
    },
    {
      "cell_type": "code",
      "metadata": {
        "colab": {
          "base_uri": "https://localhost:8080/"
        },
        "id": "_TtNcmPqt77W",
        "outputId": "4124807e-33e9-4812-aa72-1081ade53a92"
      },
      "source": [
        "dataset = np.zeros((no_of_articles, 1000), dtype= int)\n",
        "dataset.shape"
      ],
      "execution_count": 72,
      "outputs": [
        {
          "output_type": "execute_result",
          "data": {
            "text/plain": [
              "(2225, 1000)"
            ]
          },
          "metadata": {},
          "execution_count": 72
        }
      ]
    },
    {
      "cell_type": "code",
      "metadata": {
        "id": "k1YWUkzzvGO2"
      },
      "source": [
        "i=0\n",
        "idx_list=[]\n",
        "for item in content:\n",
        "  word_list= word_tokenize(str(item))\n",
        "  for token in word_list:\n",
        "    if word2idx.get(token) is not None:\n",
        "      idx = word2idx.get(token)\n",
        "    else:\n",
        "      idx= 0\n",
        "    idx_list.append(idx)\n",
        "  pad_list = [0]*(1000- len(idx_list))\n",
        "  idx_list = idx_list + pad_list\n",
        "  dataset[i]= idx_list[0:1000]\n",
        "  idx_list=[]\n",
        "  i+=1"
      ],
      "execution_count": 74,
      "outputs": []
    },
    {
      "cell_type": "code",
      "source": [
        ""
      ],
      "metadata": {
        "id": "8cXePTUQyaw4"
      },
      "execution_count": null,
      "outputs": []
    },
    {
      "cell_type": "code",
      "source": [
        "dataset= torch.tensor(dataset)"
      ],
      "metadata": {
        "id": "lQlaf4XmbVfJ"
      },
      "execution_count": 75,
      "outputs": []
    },
    {
      "cell_type": "markdown",
      "source": [
        "####**5.0 DownLoad the pretrained vectors**"
      ],
      "metadata": {
        "id": "az_fGfIPCYSW"
      }
    },
    {
      "cell_type": "code",
      "source": [
        "URL = \"https://dl.fbaipublicfiles.com/fasttext/vectors-english/crawl-300d-2M.vec.zip\"\n",
        "FILE = \"fastText\"\n",
        "!wget -P $FILE $URL\n",
        "!unzip $FILE/crawl-300d-2M.vec.zip -d $FILE"
      ],
      "metadata": {
        "colab": {
          "base_uri": "https://localhost:8080/"
        },
        "id": "NKXjSKIgCXlB",
        "outputId": "db197515-6a3d-42b1-8c8c-9f9abf3bd8c6"
      },
      "execution_count": 76,
      "outputs": [
        {
          "output_type": "stream",
          "name": "stdout",
          "text": [
            "--2022-01-23 07:16:50--  https://dl.fbaipublicfiles.com/fasttext/vectors-english/crawl-300d-2M.vec.zip\n",
            "Resolving dl.fbaipublicfiles.com (dl.fbaipublicfiles.com)... 172.67.9.4, 104.22.74.142, 104.22.75.142, ...\n",
            "Connecting to dl.fbaipublicfiles.com (dl.fbaipublicfiles.com)|172.67.9.4|:443... connected.\n",
            "HTTP request sent, awaiting response... 200 OK\n",
            "Length: 1523785255 (1.4G) [application/zip]\n",
            "Saving to: ‘fastText/crawl-300d-2M.vec.zip.1’\n",
            "\n",
            "crawl-300d-2M.vec.z 100%[===================>]   1.42G  27.8MB/s    in 52s     \n",
            "\n",
            "2022-01-23 07:17:42 (27.9 MB/s) - ‘fastText/crawl-300d-2M.vec.zip.1’ saved [1523785255/1523785255]\n",
            "\n",
            "Archive:  fastText/crawl-300d-2M.vec.zip\n",
            "replace fastText/crawl-300d-2M.vec? [y]es, [n]o, [A]ll, [N]one, [r]ename: N\n"
          ]
        }
      ]
    },
    {
      "cell_type": "markdown",
      "source": [
        "###**6.0 Load the pre-trained vectors and create the embedding matrix**"
      ],
      "metadata": {
        "id": "dM9k33G2D1Lq"
      }
    },
    {
      "cell_type": "code",
      "metadata": {
        "id": "76xyIra75_dP"
      },
      "source": [
        "fin = open('/content/fastText/crawl-300d-2M.vec', 'r', encoding='utf-8', newline='\\n', errors='ignore')\n",
        "n, d = map(int, fin.readline().split())"
      ],
      "execution_count": 77,
      "outputs": []
    },
    {
      "cell_type": "code",
      "source": [
        "embeddings = np.random.uniform(-0.25, 0.25, (len(word2idx), d))"
      ],
      "metadata": {
        "id": "JAqpB50VF_4d"
      },
      "execution_count": 78,
      "outputs": []
    },
    {
      "cell_type": "code",
      "source": [
        "count =0\n",
        "for line in fin:\n",
        "  tokens = line.rstrip().split(' ')\n",
        "  word = tokens[0]\n",
        "  if word in word2idx:\n",
        "    embeddings[word2idx[word]] = np.array(tokens[1:], dtype=np.float32)"
      ],
      "metadata": {
        "id": "GUJQIp4fCtpk"
      },
      "execution_count": 79,
      "outputs": []
    },
    {
      "cell_type": "code",
      "source": [
        "embeddings= torch.tensor(embeddings)"
      ],
      "metadata": {
        "id": "VnGvFrZ-EzBq"
      },
      "execution_count": 80,
      "outputs": []
    },
    {
      "cell_type": "markdown",
      "source": [
        "Now we have an embedding array wich has the vector for each word in our dictionary. Further, we have 'dataset' which gives the word index for each article"
      ],
      "metadata": {
        "id": "EfSylroUKqA0"
      }
    },
    {
      "cell_type": "markdown",
      "source": [
        "###**7.0 Create Pytorch Dataloaders**"
      ],
      "metadata": {
        "id": "-7pwPiJn81q_"
      }
    },
    {
      "cell_type": "code",
      "source": [
        "labels, uniques = pd.factorize(labels)"
      ],
      "metadata": {
        "id": "ja01f73FLrBO"
      },
      "execution_count": 104,
      "outputs": []
    },
    {
      "cell_type": "code",
      "source": [
        "labels = torch.from_numpy(labels)"
      ],
      "metadata": {
        "id": "mQPqI2dpzaUe"
      },
      "execution_count": 105,
      "outputs": []
    },
    {
      "cell_type": "code",
      "source": [
        "dataset.shape, labels.shape"
      ],
      "metadata": {
        "colab": {
          "base_uri": "https://localhost:8080/"
        },
        "id": "1oWhDO5qzyTH",
        "outputId": "35d8f534-ec3e-4bd0-ffbb-9b348b43602f"
      },
      "execution_count": 106,
      "outputs": [
        {
          "output_type": "execute_result",
          "data": {
            "text/plain": [
              "(torch.Size([2225, 1000]), torch.Size([2225]))"
            ]
          },
          "metadata": {},
          "execution_count": 106
        }
      ]
    },
    {
      "cell_type": "code",
      "source": [
        "from sklearn.model_selection import train_test_split\n",
        "\n",
        "# Train Test Split\n",
        "train_inputs, val_inputs, train_labels, val_labels = train_test_split(dataset, labels, test_size=0.1, random_state=42)"
      ],
      "metadata": {
        "id": "QSRzd-a4_Rov"
      },
      "execution_count": 107,
      "outputs": []
    },
    {
      "cell_type": "code",
      "source": [
        "from torch.utils.data import (TensorDataset, DataLoader, RandomSampler,\n",
        "                              SequentialSampler)\n",
        "\n",
        "\n",
        "batch_size=50\n",
        "\n",
        "# Create DataLoader for training data\n",
        "train_data = TensorDataset(train_inputs, train_labels)\n",
        "train_sampler = RandomSampler(train_data)\n",
        "train_dataloader = DataLoader(train_data, sampler=train_sampler, batch_size=batch_size)\n",
        "\n",
        "# Create DataLoader for validation data\n",
        "val_data = TensorDataset(val_inputs, val_labels)\n",
        "val_sampler = SequentialSampler(val_data)\n",
        "val_dataloader = DataLoader(val_data, sampler=val_sampler, batch_size=batch_size)"
      ],
      "metadata": {
        "id": "GElTJZYANoYd"
      },
      "execution_count": 108,
      "outputs": []
    },
    {
      "cell_type": "markdown",
      "source": [
        "##**8.Device**"
      ],
      "metadata": {
        "id": "i5nHWuIP0TYg"
      }
    },
    {
      "cell_type": "code",
      "source": [
        "if torch.cuda.is_available():       \n",
        "    device = torch.device(\"cuda\")\n",
        "    print(f'There are {torch.cuda.device_count()} GPU(s) available.')\n",
        "    print('Device name:', torch.cuda.get_device_name(0))\n",
        "\n",
        "else:\n",
        "    print('No GPU available, using the CPU instead.')\n",
        "    device = torch.device(\"cpu\")"
      ],
      "metadata": {
        "colab": {
          "base_uri": "https://localhost:8080/"
        },
        "id": "282xUtFF2MEN",
        "outputId": "5f0f6423-d9e5-4858-e45d-fc6abd2cc051"
      },
      "execution_count": 109,
      "outputs": [
        {
          "output_type": "stream",
          "name": "stdout",
          "text": [
            "There are 1 GPU(s) available.\n",
            "Device name: Tesla T4\n"
          ]
        }
      ]
    },
    {
      "cell_type": "markdown",
      "source": [
        "##**8. LSTM Model Architecture**"
      ],
      "metadata": {
        "id": "SlyHEG4XPmFB"
      }
    },
    {
      "cell_type": "code",
      "source": [
        "import torch\n",
        "import torch.nn as nn\n",
        "import torch.nn.functional as F"
      ],
      "metadata": {
        "id": "flKn6j0RPa4y"
      },
      "execution_count": 110,
      "outputs": []
    },
    {
      "cell_type": "code",
      "source": [
        "class LSTM(nn.Module):\n",
        "  def __init__(self,\n",
        "               pretrained_embedding,\n",
        "               ):\n",
        "\n",
        "      super(LSTM, self).__init__()\n",
        "      self.embedding = nn.Embedding.from_pretrained(pretrained_embedding, freeze=False)\n",
        "\n",
        "      self.lstm= nn.LSTM(input_size= 300, hidden_size= 128, num_layers=2, batch_first= True)\n",
        "\n",
        "      self.fc = nn.Linear(128, 5)\n",
        "        \n",
        "      self.dropout = nn.Dropout(0.5)\n",
        "        \n",
        "    \n",
        "  def forward(self, dataset):\n",
        "\n",
        "    x_embed = self.embedding(dataset).float()\n",
        "\n",
        "    h0 = torch.rand(2, x_embed.size(0), 128).to(device) \n",
        "    c0 = torch.rand(2, x_embed.size(0), 128).to(device) \n",
        "\n",
        "    x, _ = self.lstm(x_embed, (h0,c0))\n",
        "\n",
        "    x = x[:, -1, :]\n",
        "   \n",
        "    logits = torch.softmax(self.fc(x), dim=0)\n",
        "    return logits\n",
        "\n"
      ],
      "metadata": {
        "id": "UkPC7E1srblJ"
      },
      "execution_count": 111,
      "outputs": []
    },
    {
      "cell_type": "markdown",
      "source": [
        "##**9. Instatiate the CNN Model**"
      ],
      "metadata": {
        "id": "_6PRJFIDVAmG"
      }
    },
    {
      "cell_type": "code",
      "source": [
        "model = LSTM(embeddings)\n",
        "model = model.to(device)\n",
        "model"
      ],
      "metadata": {
        "colab": {
          "base_uri": "https://localhost:8080/"
        },
        "id": "pHQHMQmM0LT4",
        "outputId": "642aea6e-08f4-405a-fb24-9114ce828052"
      },
      "execution_count": 112,
      "outputs": [
        {
          "output_type": "execute_result",
          "data": {
            "text/plain": [
              "LSTM(\n",
              "  (embedding): Embedding(50108, 300)\n",
              "  (lstm): LSTM(300, 128, num_layers=2, batch_first=True)\n",
              "  (fc): Linear(in_features=128, out_features=5, bias=True)\n",
              "  (dropout): Dropout(p=0.5, inplace=False)\n",
              ")"
            ]
          },
          "metadata": {},
          "execution_count": 112
        }
      ]
    },
    {
      "cell_type": "markdown",
      "source": [
        "##**9.  Optimizer and Loss Function**"
      ],
      "metadata": {
        "id": "GQcIqcvTT86_"
      }
    },
    {
      "cell_type": "code",
      "source": [
        "import torch.optim as optim\n",
        "\n",
        "# Instantiate Adadelta optimizer\n",
        "optimizer = optim.Adadelta(model.parameters(),\n",
        "                               lr=.001,\n",
        "                               rho=0.95)\n",
        "criterion = nn.CrossEntropyLoss()"
      ],
      "metadata": {
        "id": "a1hOPqFf1oNv"
      },
      "execution_count": 113,
      "outputs": []
    },
    {
      "cell_type": "markdown",
      "source": [
        "##**10. Train**"
      ],
      "metadata": {
        "id": "Z7LtPbo9_qMQ"
      }
    },
    {
      "cell_type": "code",
      "source": [
        "def evaluate ():\n",
        "  eval_model = model\n",
        "  eval_model.eval\n",
        "  val_accuracy = []\n",
        "  val_loss = []\n",
        "  \n",
        "  for inputs, labels in val_dataloader:\n",
        "    inputs = inputs.to(device)\n",
        "    labels = labels.to(device)\n",
        "    logits = eval_model(inputs)\n",
        "    \n",
        "    loss = criterion (logits, labels)\n",
        "    val_loss.append(loss.item())\n",
        "    _, predicted = torch.max(logits, 1)\n",
        "    \n",
        "    accuracy = (predicted == labels).cpu().numpy().mean() * 100\n",
        "    \n",
        "    val_accuracy.append(accuracy)\n",
        "\n",
        "  val_loss = np.mean(val_loss)\n",
        "  val_accuracy = np.mean(val_accuracy)\n",
        "\n",
        "  return val_loss, val_accuracy\n"
      ],
      "metadata": {
        "id": "tO94CX49beIX"
      },
      "execution_count": 114,
      "outputs": []
    },
    {
      "cell_type": "code",
      "source": [
        "# No of Epochs\n",
        "epoch = 5\n",
        "\n",
        "# keeping the network in train mode\n",
        "model.train()\n",
        "train_losses,  train_accuracy = [], []\n",
        "\n",
        "# Loop for no of epochs\n",
        "for e in range(epoch):\n",
        "    train_loss = 0\n",
        "    correct = 0\n",
        "    # Iterate through all the batches in each epoch\n",
        "    for inputs, labels in train_dataloader:\n",
        "\n",
        "      # Convert the image and label to gpu for faster execution\n",
        "      inputs = inputs.to(device)\n",
        "      labels = labels.to(device)\n",
        "          \n",
        "      # Zero the parameter gradients\n",
        "      optimizer.zero_grad()\n",
        "      \n",
        "      # Passing the data to the model (Forward Pass)\n",
        "      outputs = model(inputs)\n",
        "     \n",
        "      # Calculating the loss\n",
        "      loss = criterion(outputs, labels)\n",
        "      train_loss += loss.item()\n",
        "\n",
        "      # Performing backward pass (Backpropagation)\n",
        "      loss.backward()\n",
        "\n",
        "      # optimizer.step() updates the weights accordingly\n",
        "      optimizer.step()\n",
        "\n",
        "      _, predicted = torch.max(outputs, 1)\n",
        "      correct += (predicted == labels).sum().item()\n",
        "      val_loss, val_accuracy = evaluate()\n",
        "     \n",
        "    # Accuracy calculation\n",
        "    train_losses.append(train_loss/len (train_data))\n",
        "    train_accuracy.append(100 * correct/len(train_data))\n",
        "    print('epoch: {}, Train Loss:{:.6f} Train Accuracy: {:.2f} Validation loss: {:.2f} Validation accuracy: {:.8f} '.format(e+1,train_losses[-1], train_accuracy[-1], val_loss, val_accuracy))"
      ],
      "metadata": {
        "id": "o8OOXvsX_ofN",
        "colab": {
          "base_uri": "https://localhost:8080/"
        },
        "outputId": "4339927c-33aa-4979-c5c1-88e0609f5119"
      },
      "execution_count": 115,
      "outputs": [
        {
          "output_type": "stream",
          "name": "stdout",
          "text": [
            "epoch: 1, Train Loss:0.032961 Train Accuracy: 17.63 Validation loss: 1.61 Validation accuracy: 20.81739130 \n",
            "epoch: 2, Train Loss:0.032961 Train Accuracy: 18.28 Validation loss: 1.61 Validation accuracy: 20.81739130 \n",
            "epoch: 3, Train Loss:0.032961 Train Accuracy: 17.73 Validation loss: 1.61 Validation accuracy: 20.81739130 \n",
            "epoch: 4, Train Loss:0.032961 Train Accuracy: 18.38 Validation loss: 1.61 Validation accuracy: 20.81739130 \n",
            "epoch: 5, Train Loss:0.032961 Train Accuracy: 18.18 Validation loss: 1.61 Validation accuracy: 20.81739130 \n"
          ]
        }
      ]
    }
  ]
}