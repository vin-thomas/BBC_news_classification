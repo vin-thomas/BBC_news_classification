{
  "nbformat": 4,
  "nbformat_minor": 0,
  "metadata": {
    "colab": {
      "name": "BBC_LSTM_Final.ipynb",
      "provenance": [],
      "collapsed_sections": [],
      "authorship_tag": "ABX9TyMyv7fTHWx1o04Lz6cN/uDf",
      "include_colab_link": true
    },
    "kernelspec": {
      "name": "python3",
      "display_name": "Python 3"
    },
    "language_info": {
      "name": "python"
    },
    "accelerator": "GPU"
  },
  "cells": [
    {
      "cell_type": "markdown",
      "metadata": {
        "id": "view-in-github",
        "colab_type": "text"
      },
      "source": [
        "<a href=\"https://colab.research.google.com/github/vin-thomas/BBC_news_classification/blob/main/BBC_LSTM_Final.ipynb\" target=\"_parent\"><img src=\"https://colab.research.google.com/assets/colab-badge.svg\" alt=\"Open In Colab\"/></a>"
      ]
    },
    {
      "cell_type": "code",
      "metadata": {
        "id": "353aMfJgCAxO",
        "colab": {
          "base_uri": "https://localhost:8080/"
        },
        "outputId": "52006565-c790-45c4-f02f-1cfd58e56356"
      },
      "source": [
        "import os\n",
        "import numpy as np\n",
        "import pandas as pd\n",
        "import matplotlib.pyplot as plt\n",
        "import nltk\n",
        "import torch\n",
        "import glob\n",
        "from nltk.tokenize import word_tokenize\n",
        "nltk.download('punkt')"
      ],
      "execution_count": null,
      "outputs": [
        {
          "output_type": "stream",
          "name": "stdout",
          "text": [
            "[nltk_data] Downloading package punkt to /root/nltk_data...\n",
            "[nltk_data]   Package punkt is already up-to-date!\n"
          ]
        },
        {
          "output_type": "execute_result",
          "data": {
            "text/plain": [
              "True"
            ]
          },
          "metadata": {},
          "execution_count": 35
        }
      ]
    },
    {
      "cell_type": "markdown",
      "metadata": {
        "id": "qxfbdCGBDOZx"
      },
      "source": [
        "**2.0 Download and unzip the dataset**"
      ]
    },
    {
      "cell_type": "code",
      "metadata": {
        "colab": {
          "base_uri": "https://localhost:8080/"
        },
        "id": "Xt5HvEkvDNtV",
        "outputId": "5d006811-75db-41e0-d272-6fd1528abfa4"
      },
      "source": [
        "URL = \"http://mlg.ucd.ie/files/datasets/bbc-fulltext.zip\" \n",
        "!wget -P 'Data/' $URL"
      ],
      "execution_count": null,
      "outputs": [
        {
          "output_type": "stream",
          "name": "stdout",
          "text": [
            "--2022-01-24 07:13:30--  http://mlg.ucd.ie/files/datasets/bbc-fulltext.zip\n",
            "Resolving mlg.ucd.ie (mlg.ucd.ie)... 137.43.93.132\n",
            "Connecting to mlg.ucd.ie (mlg.ucd.ie)|137.43.93.132|:80... connected.\n",
            "HTTP request sent, awaiting response... 200 OK\n",
            "Length: 2874078 (2.7M) [application/zip]\n",
            "Saving to: ‘Data/bbc-fulltext.zip.1’\n",
            "\n",
            "bbc-fulltext.zip.1  100%[===================>]   2.74M  4.58MB/s    in 0.6s    \n",
            "\n",
            "2022-01-24 07:13:31 (4.58 MB/s) - ‘Data/bbc-fulltext.zip.1’ saved [2874078/2874078]\n",
            "\n"
          ]
        }
      ]
    },
    {
      "cell_type": "code",
      "metadata": {
        "id": "ap3ya7hPDLNg",
        "colab": {
          "base_uri": "https://localhost:8080/"
        },
        "outputId": "4a744fc1-1c24-49e3-d73c-ca2df2bdae7d"
      },
      "source": [
        "!unzip \"/content/Data/bbc-fulltext.zip\" -d 'Data/'"
      ],
      "execution_count": null,
      "outputs": [
        {
          "output_type": "stream",
          "name": "stdout",
          "text": [
            "Archive:  /content/Data/bbc-fulltext.zip\n",
            "replace Data/bbc/business/001.txt? [y]es, [n]o, [A]ll, [N]one, [r]ename: N\n"
          ]
        }
      ]
    },
    {
      "cell_type": "markdown",
      "metadata": {
        "id": "vYq62-Ji-rgT"
      },
      "source": [
        "##**3.0 Save Labels and Content to lists**"
      ]
    },
    {
      "cell_type": "code",
      "metadata": {
        "id": "NV5qLqIO6HPX"
      },
      "source": [
        "file_name_iter = glob.iglob('/content/Data/bbc/**/*.txt')"
      ],
      "execution_count": null,
      "outputs": []
    },
    {
      "cell_type": "code",
      "metadata": {
        "id": "NiJiCOZX8bBG"
      },
      "source": [
        "def get_topic(file):\n",
        "  return file.split('/')[-2]"
      ],
      "execution_count": null,
      "outputs": []
    },
    {
      "cell_type": "code",
      "metadata": {
        "id": "H60LnL-Q9EOo"
      },
      "source": [
        "def get_content(file):\n",
        "  with open(file, 'rb') as f:\n",
        "    content = f.read()\n",
        "    return content"
      ],
      "execution_count": null,
      "outputs": []
    },
    {
      "cell_type": "code",
      "metadata": {
        "id": "uPHkEx6O837A"
      },
      "source": [
        "labels = []\n",
        "content = []\n",
        "\n",
        "for file in file_name_iter:\n",
        "  labels.append(get_topic(file))\n",
        "  content.append (get_content(file))"
      ],
      "execution_count": null,
      "outputs": []
    },
    {
      "cell_type": "code",
      "source": [
        "len(labels), len(content)"
      ],
      "metadata": {
        "id": "R-LwAs3Yz6Ad",
        "colab": {
          "base_uri": "https://localhost:8080/"
        },
        "outputId": "aaa9edae-24ae-4b07-ab91-c298ac44e912"
      },
      "execution_count": null,
      "outputs": [
        {
          "output_type": "execute_result",
          "data": {
            "text/plain": [
              "(2225, 2225)"
            ]
          },
          "metadata": {},
          "execution_count": 203
        }
      ]
    },
    {
      "cell_type": "markdown",
      "metadata": {
        "id": "XBumyr4Uszre"
      },
      "source": [
        "##**4.0 Prepare a word index, dictionary**"
      ]
    },
    {
      "cell_type": "code",
      "metadata": {
        "id": "8-UidBXu-Xep"
      },
      "source": [
        "word2idx= {}\n",
        "idx = 0\n",
        "n_l = []\n",
        "news_len =0\n",
        "\n",
        "for item in content:\n",
        "  word_list = word_tokenize(str(item))\n",
        "  n_l.append(len(word_list))\n",
        "  for word in word_list:\n",
        "    if word not in word2idx:\n",
        "      word2idx[word]= idx\n",
        "      idx += 1\n",
        "      \n"
      ],
      "execution_count": null,
      "outputs": []
    },
    {
      "cell_type": "code",
      "metadata": {
        "id": "dQWidJbtteFf"
      },
      "source": [
        "max_len_article = max(n_l)\n",
        "no_of_articles= len(content)"
      ],
      "execution_count": null,
      "outputs": []
    },
    {
      "cell_type": "code",
      "metadata": {
        "colab": {
          "base_uri": "https://localhost:8080/"
        },
        "id": "_TtNcmPqt77W",
        "outputId": "bb85cc6c-6d96-4350-8e70-21a26fec1778"
      },
      "source": [
        "dataset = np.zeros((no_of_articles, 100), dtype= int)\n",
        "dataset.shape"
      ],
      "execution_count": null,
      "outputs": [
        {
          "output_type": "execute_result",
          "data": {
            "text/plain": [
              "(2225, 100)"
            ]
          },
          "metadata": {},
          "execution_count": 206
        }
      ]
    },
    {
      "cell_type": "code",
      "metadata": {
        "id": "k1YWUkzzvGO2"
      },
      "source": [
        "i=0\n",
        "idx_list=[]\n",
        "for item in content:\n",
        "  word_list= word_tokenize(str(item))\n",
        "  for token in word_list:\n",
        "    if word2idx.get(token) is not None:\n",
        "      idx = word2idx.get(token)\n",
        "    else:\n",
        "      idx= 0\n",
        "    idx_list.append(idx)\n",
        "  pad_list = [0]*(max_len_article- len(idx_list))\n",
        "  idx_list = idx_list + pad_list\n",
        "  dataset[i]= idx_list[0:100]\n",
        "  idx_list=[]\n",
        "  i+=1"
      ],
      "execution_count": null,
      "outputs": []
    },
    {
      "cell_type": "code",
      "source": [
        "dataset= torch.tensor(dataset)"
      ],
      "metadata": {
        "id": "lQlaf4XmbVfJ"
      },
      "execution_count": null,
      "outputs": []
    },
    {
      "cell_type": "markdown",
      "source": [
        "####**5.0 DownLoad the pretrained vectors**"
      ],
      "metadata": {
        "id": "az_fGfIPCYSW"
      }
    },
    {
      "cell_type": "code",
      "source": [
        "URL = \"https://dl.fbaipublicfiles.com/fasttext/vectors-english/crawl-300d-2M.vec.zip\"\n",
        "FILE = \"fastText\"\n",
        "!wget -P $FILE $URL\n",
        "!unzip $FILE/crawl-300d-2M.vec.zip -d $FILE"
      ],
      "metadata": {
        "colab": {
          "base_uri": "https://localhost:8080/"
        },
        "id": "NKXjSKIgCXlB",
        "outputId": "98f1c55a-72f5-4cff-d004-76c18fbf93eb"
      },
      "execution_count": null,
      "outputs": [
        {
          "output_type": "stream",
          "name": "stdout",
          "text": [
            "--2022-01-24 07:57:13--  https://dl.fbaipublicfiles.com/fasttext/vectors-english/crawl-300d-2M.vec.zip\n",
            "Resolving dl.fbaipublicfiles.com (dl.fbaipublicfiles.com)... 172.67.9.4, 104.22.74.142, 104.22.75.142, ...\n",
            "Connecting to dl.fbaipublicfiles.com (dl.fbaipublicfiles.com)|172.67.9.4|:443... connected.\n",
            "HTTP request sent, awaiting response... 200 OK\n",
            "Length: 1523785255 (1.4G) [application/zip]\n",
            "Saving to: ‘fastText/crawl-300d-2M.vec.zip.2’\n",
            "\n",
            "crawl-300d-2M.vec.z 100%[===================>]   1.42G  41.6MB/s    in 40s     \n",
            "\n",
            "2022-01-24 07:57:53 (36.4 MB/s) - ‘fastText/crawl-300d-2M.vec.zip.2’ saved [1523785255/1523785255]\n",
            "\n",
            "Archive:  fastText/crawl-300d-2M.vec.zip\n",
            "replace fastText/crawl-300d-2M.vec? [y]es, [n]o, [A]ll, [N]one, [r]ename: N\n"
          ]
        }
      ]
    },
    {
      "cell_type": "markdown",
      "source": [
        "###**6.0 Load the pre-trained vectors and create the embedding matrix**"
      ],
      "metadata": {
        "id": "dM9k33G2D1Lq"
      }
    },
    {
      "cell_type": "code",
      "metadata": {
        "id": "76xyIra75_dP"
      },
      "source": [
        "fin = open('/content/fastText/crawl-300d-2M.vec', 'r', encoding='utf-8', newline='\\n', errors='ignore')\n",
        "n, d = map(int, fin.readline().split())"
      ],
      "execution_count": null,
      "outputs": []
    },
    {
      "cell_type": "code",
      "source": [
        "embeddings = np.random.uniform(-0.25, 0.25, (len(word2idx), d))"
      ],
      "metadata": {
        "id": "JAqpB50VF_4d"
      },
      "execution_count": null,
      "outputs": []
    },
    {
      "cell_type": "code",
      "source": [
        "count =0\n",
        "for line in fin:\n",
        "  tokens = line.rstrip().split(' ')\n",
        "  word = tokens[0]\n",
        "  if word in word2idx:\n",
        "    embeddings[word2idx[word]] = np.array(tokens[1:], dtype=np.float32)"
      ],
      "metadata": {
        "id": "GUJQIp4fCtpk"
      },
      "execution_count": null,
      "outputs": []
    },
    {
      "cell_type": "code",
      "source": [
        "embeddings= torch.tensor(embeddings)"
      ],
      "metadata": {
        "id": "VnGvFrZ-EzBq"
      },
      "execution_count": null,
      "outputs": []
    },
    {
      "cell_type": "markdown",
      "source": [
        "Now we have an embedding array wich has the vector for each word in our dictionary. Further, we have 'dataset' which gives the word index for each article"
      ],
      "metadata": {
        "id": "EfSylroUKqA0"
      }
    },
    {
      "cell_type": "markdown",
      "source": [
        "###**7.0 Create Pytorch Dataloaders**"
      ],
      "metadata": {
        "id": "-7pwPiJn81q_"
      }
    },
    {
      "cell_type": "code",
      "source": [
        "labels, uniques = pd.factorize(labels)"
      ],
      "metadata": {
        "id": "ja01f73FLrBO"
      },
      "execution_count": null,
      "outputs": []
    },
    {
      "cell_type": "code",
      "source": [
        "labels = torch.from_numpy(labels)"
      ],
      "metadata": {
        "id": "mQPqI2dpzaUe"
      },
      "execution_count": null,
      "outputs": []
    },
    {
      "cell_type": "code",
      "source": [
        "dataset.shape, labels.shape"
      ],
      "metadata": {
        "colab": {
          "base_uri": "https://localhost:8080/"
        },
        "id": "1oWhDO5qzyTH",
        "outputId": "68f140c5-c834-4cb3-aa89-24b9da3b1de8"
      },
      "execution_count": null,
      "outputs": [
        {
          "output_type": "execute_result",
          "data": {
            "text/plain": [
              "(torch.Size([2225, 100]), torch.Size([2225]))"
            ]
          },
          "metadata": {},
          "execution_count": 216
        }
      ]
    },
    {
      "cell_type": "code",
      "source": [
        "from sklearn.model_selection import train_test_split\n",
        "\n",
        "# Train Test Split\n",
        "train_inputs, val_inputs, train_labels, val_labels = train_test_split(dataset, labels, test_size=0.1, random_state=42)"
      ],
      "metadata": {
        "id": "QSRzd-a4_Rov"
      },
      "execution_count": null,
      "outputs": []
    },
    {
      "cell_type": "code",
      "source": [
        "len(train_inputs), len(val_inputs)"
      ],
      "metadata": {
        "colab": {
          "base_uri": "https://localhost:8080/"
        },
        "id": "FWCS3v_bwRRh",
        "outputId": "682c4c69-61a1-4310-acb8-ff0ce05868c2"
      },
      "execution_count": null,
      "outputs": [
        {
          "output_type": "execute_result",
          "data": {
            "text/plain": [
              "(2002, 223)"
            ]
          },
          "metadata": {},
          "execution_count": 218
        }
      ]
    },
    {
      "cell_type": "code",
      "source": [
        "from torch.utils.data import (TensorDataset, DataLoader, RandomSampler,\n",
        "                              SequentialSampler)\n",
        "\n",
        "\n",
        "batch_size=50\n",
        "\n",
        "# Create DataLoader for training data\n",
        "train_data = TensorDataset(train_inputs, train_labels)\n",
        "train_sampler = RandomSampler(train_data)\n",
        "train_dataloader = DataLoader(train_data, sampler=train_sampler, batch_size=batch_size)\n",
        "\n",
        "# Create DataLoader for validation data\n",
        "val_data = TensorDataset(val_inputs, val_labels)\n",
        "val_sampler = SequentialSampler(val_data)\n",
        "val_dataloader = DataLoader(val_data, sampler=val_sampler, batch_size=50)"
      ],
      "metadata": {
        "id": "GElTJZYANoYd"
      },
      "execution_count": null,
      "outputs": []
    },
    {
      "cell_type": "markdown",
      "source": [
        "##**8.Device**"
      ],
      "metadata": {
        "id": "i5nHWuIP0TYg"
      }
    },
    {
      "cell_type": "code",
      "source": [
        "if torch.cuda.is_available():       \n",
        "    device = torch.device(\"cuda\")\n",
        "    print(f'There are {torch.cuda.device_count()} GPU(s) available.')\n",
        "    print('Device name:', torch.cuda.get_device_name(0))\n",
        "\n",
        "else:\n",
        "    print('No GPU available, using the CPU instead.')\n",
        "    device = torch.device(\"cpu\")"
      ],
      "metadata": {
        "colab": {
          "base_uri": "https://localhost:8080/"
        },
        "id": "282xUtFF2MEN",
        "outputId": "a611d5d5-e785-46b1-b2ae-55551d0f98b1"
      },
      "execution_count": null,
      "outputs": [
        {
          "output_type": "stream",
          "name": "stdout",
          "text": [
            "There are 1 GPU(s) available.\n",
            "Device name: Tesla T4\n"
          ]
        }
      ]
    },
    {
      "cell_type": "markdown",
      "source": [
        "##**8. LSTM Model Architecture**"
      ],
      "metadata": {
        "id": "SlyHEG4XPmFB"
      }
    },
    {
      "cell_type": "code",
      "source": [
        "import torch\n",
        "import torch.nn as nn\n",
        "import torch.nn.functional as F"
      ],
      "metadata": {
        "id": "flKn6j0RPa4y"
      },
      "execution_count": null,
      "outputs": []
    },
    {
      "cell_type": "code",
      "source": [
        "class LSTM(nn.Module):\n",
        "  def __init__(self,\n",
        "               pretrained_embedding,\n",
        "               ):\n",
        "\n",
        "      super(LSTM, self).__init__()\n",
        "      self.embedding = nn.Embedding.from_pretrained(pretrained_embedding, freeze=False)\n",
        "\n",
        "      self.lstm= nn.LSTM(input_size= 300, hidden_size= 128, num_layers=2, batch_first= True)\n",
        "\n",
        "      self.fc = nn.Linear(128, 5)\n",
        "        \n",
        "      self.dropout = nn.Dropout(0.5)\n",
        "        \n",
        "    \n",
        "  def forward(self, dataset):\n",
        "\n",
        "    x_embed = self.embedding(dataset).float()\n",
        "   \n",
        "\n",
        "    x, _ = self.lstm(x_embed)\n",
        "\n",
        "    x = x[:, -1, :]\n",
        "   \n",
        "    logits = self.fc(x)\n",
        "    \n",
        "    return logits\n",
        "\n"
      ],
      "metadata": {
        "id": "UkPC7E1srblJ"
      },
      "execution_count": null,
      "outputs": []
    },
    {
      "cell_type": "markdown",
      "source": [
        "##**9. Instatiate the LSTM Model**"
      ],
      "metadata": {
        "id": "_6PRJFIDVAmG"
      }
    },
    {
      "cell_type": "code",
      "source": [
        "model = LSTM(embeddings)\n",
        "model = model.to(device)\n",
        "model"
      ],
      "metadata": {
        "colab": {
          "base_uri": "https://localhost:8080/"
        },
        "id": "pHQHMQmM0LT4",
        "outputId": "17c4e43a-7b52-49b0-e244-c50bf1ef9b90"
      },
      "execution_count": null,
      "outputs": [
        {
          "output_type": "execute_result",
          "data": {
            "text/plain": [
              "LSTM(\n",
              "  (embedding): Embedding(50108, 300)\n",
              "  (lstm): LSTM(300, 128, num_layers=2, batch_first=True)\n",
              "  (fc): Linear(in_features=128, out_features=5, bias=True)\n",
              "  (dropout): Dropout(p=0.5, inplace=False)\n",
              ")"
            ]
          },
          "metadata": {},
          "execution_count": 223
        }
      ]
    },
    {
      "cell_type": "markdown",
      "source": [
        "##**9.  Optimizer and Loss Function**"
      ],
      "metadata": {
        "id": "GQcIqcvTT86_"
      }
    },
    {
      "cell_type": "code",
      "source": [
        "import torch.optim as optim\n",
        "\n",
        "# Instantiate Adadelta optimizer\n",
        "optimizer = torch.optim.Adam(model.parameters(), lr=.001)\n",
        "criterion = torch.nn.CrossEntropyLoss()"
      ],
      "metadata": {
        "id": "a1hOPqFf1oNv"
      },
      "execution_count": null,
      "outputs": []
    },
    {
      "cell_type": "markdown",
      "source": [
        "##**10. Train**"
      ],
      "metadata": {
        "id": "Z7LtPbo9_qMQ"
      }
    },
    {
      "cell_type": "code",
      "source": [
        "def evaluate ():\n",
        "  eval_model = model\n",
        "  eval_model.eval\n",
        "  val_accuracy = []\n",
        "  val_loss = []\n",
        "  \n",
        "  for inputs, labels in val_dataloader:\n",
        "    inputs = inputs.to(device)\n",
        "    labels = labels.to(device)\n",
        "    logits = eval_model(inputs)\n",
        "    \n",
        "    loss = criterion (logits, labels)\n",
        "    val_loss.append(loss.item())\n",
        "    _, predicted = torch.max(logits, 1)\n",
        "\n",
        "        \n",
        "    accuracy = (predicted == labels).cpu().numpy().mean() * 100\n",
        "    \n",
        "    val_accuracy.append(accuracy)\n",
        "\n",
        "  val_loss = np.mean(val_loss)\n",
        "  val_accuracy = np.mean(val_accuracy)\n",
        "\n",
        "  return val_loss, val_accuracy\n"
      ],
      "metadata": {
        "id": "tO94CX49beIX"
      },
      "execution_count": null,
      "outputs": []
    },
    {
      "cell_type": "code",
      "source": [
        "# No of Epochs\n",
        "epoch = 10\n",
        "\n",
        "# keeping the network in train mode\n",
        "model.train()\n",
        "train_losses,  train_accuracy = [], []\n",
        "\n",
        "# Loop for no of epochs\n",
        "for e in range(epoch):\n",
        "    train_loss = 0\n",
        "    correct = 0\n",
        "    # Iterate through all the batches in each epoch\n",
        "    for inputs, labels in train_dataloader:\n",
        "\n",
        "      # Convert the image and label to gpu for faster execution\n",
        "      inputs = inputs.to(device)\n",
        "      labels = labels.to(device)\n",
        "          \n",
        "      # Zero the parameter gradients\n",
        "      optimizer.zero_grad()\n",
        "      \n",
        "      # Passing the data to the model (Forward Pass)\n",
        "      outputs = model(inputs)\n",
        "\n",
        "                \n",
        "      # Calculating the loss\n",
        "      loss = criterion(outputs, labels)\n",
        "      train_loss += loss.item()\n",
        "\n",
        "      # Performing backward pass (Backpropagation)\n",
        "      loss.backward()\n",
        "\n",
        "      # optimizer.step() updates the weights accordingly\n",
        "      optimizer.step()\n",
        "\n",
        "      _, predicted = torch.max(outputs, 1)\n",
        "      correct += (predicted == labels).sum().item()\n",
        "\n",
        "      \n",
        "\n",
        "      val_loss, val_accuracy = evaluate()\n",
        "      \n",
        "      \n",
        "    # Accuracy calculation\n",
        "    \n",
        "    train_losses.append(train_loss/len (train_data))\n",
        "    train_accuracy.append(100 * correct/len(train_data))\n",
        "    print('epoch: {}, Train Loss:{:.6f} Train Accuracy: {:.2f} Validation loss: {:.2f} Validation accuracy: {:.8f} '.format(e+1,train_losses[-1], train_accuracy[-1], val_loss, val_accuracy))"
      ],
      "metadata": {
        "id": "o8OOXvsX_ofN",
        "colab": {
          "base_uri": "https://localhost:8080/"
        },
        "outputId": "5f518eb1-75b0-4c3d-9da7-d36aed453087"
      },
      "execution_count": null,
      "outputs": [
        {
          "output_type": "stream",
          "name": "stdout",
          "text": [
            "epoch: 1, Train Loss:0.026706 Train Accuracy: 40.36 Validation loss: 0.79 Validation accuracy: 79.72173913 \n",
            "epoch: 2, Train Loss:0.011409 Train Accuracy: 83.57 Validation loss: 0.96 Validation accuracy: 66.45217391 \n",
            "epoch: 3, Train Loss:0.010099 Train Accuracy: 85.41 Validation loss: 0.51 Validation accuracy: 84.05217391 \n",
            "epoch: 4, Train Loss:0.004983 Train Accuracy: 94.31 Validation loss: 0.43 Validation accuracy: 88.59130435 \n",
            "epoch: 5, Train Loss:0.003264 Train Accuracy: 96.35 Validation loss: 0.44 Validation accuracy: 89.32173913 \n",
            "epoch: 6, Train Loss:0.007537 Train Accuracy: 88.81 Validation loss: 0.50 Validation accuracy: 88.92173913 \n",
            "epoch: 7, Train Loss:0.001945 Train Accuracy: 98.05 Validation loss: 0.50 Validation accuracy: 88.05217391 \n",
            "epoch: 8, Train Loss:0.002257 Train Accuracy: 96.95 Validation loss: 0.43 Validation accuracy: 88.85217391 \n",
            "epoch: 9, Train Loss:0.001226 Train Accuracy: 98.85 Validation loss: 0.40 Validation accuracy: 88.45217391 \n",
            "epoch: 10, Train Loss:0.000579 Train Accuracy: 99.40 Validation loss: 0.42 Validation accuracy: 89.65217391 \n"
          ]
        }
      ]
    }
  ]
}